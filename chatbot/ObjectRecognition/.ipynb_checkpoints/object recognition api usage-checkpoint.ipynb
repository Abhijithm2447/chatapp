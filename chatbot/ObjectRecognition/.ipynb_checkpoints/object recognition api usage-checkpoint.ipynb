{
 "cells": [
  {
   "cell_type": "markdown",
   "metadata": {},
   "source": [
    "# Recognize object"
   ]
  },
  {
   "cell_type": "code",
   "execution_count": 4,
   "metadata": {},
   "outputs": [],
   "source": [
    "import requests\n",
    "import json\n",
    "import base64"
   ]
  },
  {
   "cell_type": "code",
   "execution_count": null,
   "metadata": {},
   "outputs": [],
   "source": [
    "BASE_URL = \"http://127.0.0.1:8000/\"\n",
    "def detect_image(image_path):\n",
    "    ENDPOINT = \"rec_object/\"\n",
    "    with open(image_path, \"rb\") as image_file:\n",
    "        encoded_string = base64.b64encode(image_file.read())\n",
    "        encoded_img1 = base64.b64encode(encoded_string)\n",
    "        image = encoded_img1\n",
    "        data = {\n",
    "            'image':image        \n",
    "        }\n",
    "#         data = json.dumps(data)\n",
    "    resp = requests.post(BASE_URL+ENDPOINT, data=data)\n",
    "    print(resp.status_code)\n",
    "    print(resp.json())\n",
    "detect_image(image_path = \"result_0.png\")"
   ]
  },
  {
   "cell_type": "code",
   "execution_count": null,
   "metadata": {},
   "outputs": [],
   "source": []
  }
 ],
 "metadata": {
  "kernelspec": {
   "display_name": "Python 3",
   "language": "python",
   "name": "python3"
  },
  "language_info": {
   "codemirror_mode": {
    "name": "ipython",
    "version": 3
   },
   "file_extension": ".py",
   "mimetype": "text/x-python",
   "name": "python",
   "nbconvert_exporter": "python",
   "pygments_lexer": "ipython3",
   "version": "3.6.5"
  }
 },
 "nbformat": 4,
 "nbformat_minor": 2
}

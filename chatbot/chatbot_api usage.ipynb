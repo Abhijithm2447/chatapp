{
 "cells": [
  {
   "cell_type": "markdown",
   "metadata": {},
   "source": [
    "# Insert Data"
   ]
  },
  {
   "cell_type": "code",
   "execution_count": 14,
   "metadata": {},
   "outputs": [
    {
     "name": "stdout",
     "output_type": "stream",
     "text": [
      "200\n",
      "{'result': {'is_intent_inserted': True, 'is_query_inserted': True}, 'error': []}\n"
     ]
    }
   ],
   "source": [
    "import requests\n",
    "import json\n",
    "\n",
    "BASE_URL = 'http://127.0.0.1:8000/'\n",
    "\n",
    "def insert_data(data, intent):\n",
    "    ENDPOINT = 'insert_data/'\n",
    "    context = {\n",
    "        'data': data,\n",
    "        'intent': intent,        \n",
    "    }\n",
    "    context = json.dumps(context)\n",
    "    resp = requests.post(BASE_URL+ENDPOINT, data=context)\n",
    "    print(resp.status_code)\n",
    "    print(resp.json())\n",
    "insert_data(\"Thanks\", 'good_bye')"
   ]
  },
  {
   "cell_type": "markdown",
   "metadata": {},
   "source": [
    "## Retieve all intents"
   ]
  },
  {
   "cell_type": "code",
   "execution_count": 15,
   "metadata": {},
   "outputs": [
    {
     "name": "stdout",
     "output_type": "stream",
     "text": [
      "200\n",
      "{'result': {'intent': ['greet', 'good_bye']}, 'error': []}\n"
     ]
    }
   ],
   "source": [
    "import requests\n",
    "import json\n",
    "\n",
    "BASE_URL = 'http://127.0.0.1:8000/'\n",
    "\n",
    "def retrieve_all_intents():\n",
    "    ENDPOINT = 'all_intent/'\n",
    "    context = {      \n",
    "    }\n",
    "    context = json.dumps(context)\n",
    "    resp = requests.post(BASE_URL+ENDPOINT, data=context)\n",
    "    print(resp.status_code)\n",
    "    print(resp.json())\n",
    "retrieve_all_intents()"
   ]
  },
  {
   "cell_type": "code",
   "execution_count": null,
   "metadata": {},
   "outputs": [],
   "source": []
  }
 ],
 "metadata": {
  "kernelspec": {
   "display_name": "Python 3",
   "language": "python",
   "name": "python3"
  },
  "language_info": {
   "codemirror_mode": {
    "name": "ipython",
    "version": 3
   },
   "file_extension": ".py",
   "mimetype": "text/x-python",
   "name": "python",
   "nbconvert_exporter": "python",
   "pygments_lexer": "ipython3",
   "version": "3.6.5"
  }
 },
 "nbformat": 4,
 "nbformat_minor": 2
}
